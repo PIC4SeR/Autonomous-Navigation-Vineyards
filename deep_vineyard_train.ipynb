{
 "cells": [
  {
   "cell_type": "markdown",
   "metadata": {},
   "source": [
    "# Vineyard Classificator\n",
    "\n",
    "**Objective**: the aim of this notebook is to train multiple classificators with images coming from vineyards. The best trained classificator, in term of performance and accuracy, will be used to control a robot with the probability of the predictions. So, it's a classification tasks with three dinstinct classes, left, center and right.\n",
    "\n",
    "**Models**: A model based approach with Deep Learning algorithms will be exploit. In particular, a technique dubbed transfer learning (fine tuning) will be applied in order to re-train network already trained on ImageNet dataset. This will not only let achieve higher performances, but also will tackle the lack of a large dataset.\n",
    "\n",
    "**Architecture**: \n",
    "   - MobileNet (ncs1 & ncs2 compatible)\n",
    "   - Inception-v3 (ncs1 & ncs2 compatible)\n",
    "   - Xception (Xavier compatible)\n",
    "   - InceptionResNetV2 (ncs2 compatible)\n",
    "   \n",
    "   \n",
    "**Papers**:\n",
    "    - Autonomous Navigation in Vineyards with Deep Learning at the Edge: (https://link.springer.com/chapter/10.1007/978-3-030-48989-2_51)\n",
    "    - Local Motion Planner for Autonomous Navigation in Vineyards with a RGB-D Camera-Based Algorithm and Deep Learning Synergy ("
   ]
  },
  {
   "cell_type": "markdown",
   "metadata": {},
   "source": [
    "# 1.0 Import the dataset"
   ]
  },
  {
   "cell_type": "code",
   "execution_count": 1,
   "metadata": {},
   "outputs": [],
   "source": [
    "import os\n",
    "import numpy as np\n",
    "import math\n",
    "import matplotlib.pyplot as plt\n",
    "from tensorflow.keras.preprocessing.image import ImageDataGenerator\n",
    "from sklearn.metrics import classification_report, confusion_matrix\n",
    "from tqdm import tqdm_notebook as tqdm\n",
    "import tensorflow as tf"
   ]
  },
  {
   "cell_type": "code",
   "execution_count": 2,
   "metadata": {},
   "outputs": [],
   "source": [
    "#configure your GPU\n",
    "gpus = tf.config.experimental.list_physical_devices('GPU')\n",
    "tf.config.experimental.set_visible_devices(gpus[0], 'GPU')\n",
    "tf.config.experimental.set_memory_growth(gpus[0], True)"
   ]
  },
  {
   "cell_type": "code",
   "execution_count": 3,
   "metadata": {},
   "outputs": [],
   "source": [
    "PATH_DIR = os.path.abspath('.')\n",
    "dataset_dir = os.path.join(PATH_DIR, 'dataset')\n",
    "train_dir = os.path.join(dataset_dir, 'train')\n",
    "validation_dir =  os.path.join(dataset_dir, 'validation')\n",
    "test_dir =  os.path.join(dataset_dir, 'test')\n",
    "\n",
    "# Parameters\n",
    "batch_size = 64\n",
    "img_sz = (224, 224) # must be equal to the choosen network\n",
    "classes = ['left', 'center', 'right'] #output classes"
   ]
  },
  {
   "cell_type": "code",
   "execution_count": 4,
   "metadata": {},
   "outputs": [],
   "source": [
    "# Data Augmentation Parameters\n",
    "z_range = 0.1 # zoom\n",
    "b_range = [1.0, 0.4] # brightenss\n",
    "\n",
    "# create two datagenerator for the train and test set\n",
    "train_image_generator = ImageDataGenerator(rescale = 1./255,\n",
    "                                  zoom_range = z_range,\n",
    "                                  brightness_range = b_range,\n",
    "                                  fill_mode = 'nearest')\n",
    "validation_image_generator = ImageDataGenerator(rescale = 1./255)\n",
    "test_image_generator = ImageDataGenerator(rescale = 1./255)\n",
    "test_casa_image_generator = ImageDataGenerator(rescale = 1./255)"
   ]
  },
  {
   "cell_type": "code",
   "execution_count": 5,
   "metadata": {},
   "outputs": [
    {
     "name": "stdout",
     "output_type": "stream",
     "text": [
      "Found 23530 images belonging to 3 classes.\n",
      "Found 5042 images belonging to 3 classes.\n",
      "Found 5044 images belonging to 3 classes.\n"
     ]
    }
   ],
   "source": [
    "# create two generators\n",
    "train_data_gen = train_image_generator.flow_from_directory(directory = train_dir,\n",
    "                                                          batch_size = batch_size,\n",
    "                                                          classes = classes,\n",
    "                                                          shuffle = False, # only for testing\n",
    "                                                          target_size = img_sz,\n",
    "                                                          class_mode = 'categorical', # it means labels are [1,0,0]\n",
    "                                                          seed = 3)\n",
    "validation_data_gen = test_image_generator.flow_from_directory(directory = validation_dir,\n",
    "                                                        batch_size = batch_size,\n",
    "                                                        classes = classes,\n",
    "                                                        shuffle = False,\n",
    "                                                        seed=3,\n",
    "                                                        target_size = img_sz,\n",
    "                                                        class_mode = 'categorical')\n",
    "test_data_gen = test_image_generator.flow_from_directory(directory = test_dir,\n",
    "                                                        batch_size = batch_size,\n",
    "                                                        classes = classes,\n",
    "                                                        shuffle = False,\n",
    "                                                        seed=3,\n",
    "                                                        target_size = img_sz,\n",
    "                                                        class_mode = 'categorical')"
   ]
  },
  {
   "cell_type": "code",
   "execution_count": 6,
   "metadata": {},
   "outputs": [
    {
     "data": {
      "text/plain": [
       "{'left': 0, 'center': 1, 'right': 2}"
      ]
     },
     "execution_count": 6,
     "metadata": {},
     "output_type": "execute_result"
    }
   ],
   "source": [
    "# plot class relations\n",
    "train_data_gen.class_indices"
   ]
  },
  {
   "cell_type": "markdown",
   "metadata": {},
   "source": [
    "# 2.0 Plot the dataset"
   ]
  },
  {
   "cell_type": "code",
   "execution_count": null,
   "metadata": {},
   "outputs": [],
   "source": [
    "def plotImages(images_batch, img_n, classes):\n",
    "    \"\"\"\n",
    "    Take as input a batch from the generator and plt a number of images equal to img_n\n",
    "    Default columns equal to max_c. At least inputs of batch equal two\n",
    "    \"\"\"\n",
    "    max_c = 5\n",
    "    \n",
    "    if img_n <= max_c:\n",
    "        r = 1\n",
    "        c = img_n\n",
    "    else:\n",
    "        r = math.ceil(img_n/max_c)\n",
    "        c = max_c\n",
    "        \n",
    "    fig, axes = plt.subplots(r, c, figsize=(15,15))\n",
    "    axes = axes.flatten()\n",
    "    for img_batch, label_batch, ax in zip(images_batch[0], images_batch[1], axes):\n",
    "        ax.imshow(img_batch)\n",
    "        ax.grid()\n",
    "#    _ = plt.suptitle(\"Batch images\", verticalalignment='top')\n",
    "        ax.set_title('Class: {}'.format(classes[np.argmax(label_batch)]))\n",
    "    plt.tight_layout()\n",
    "    plt.show()"
   ]
  },
  {
   "cell_type": "code",
   "execution_count": null,
   "metadata": {},
   "outputs": [],
   "source": [
    "plotImages(next(train_data_gen), 5, classes)"
   ]
  },
  {
   "cell_type": "markdown",
   "metadata": {},
   "source": [
    "# 3.0 Fine-Tune Selected Models"
   ]
  },
  {
   "cell_type": "code",
   "execution_count": 7,
   "metadata": {},
   "outputs": [],
   "source": [
    "from tensorflow.keras.models import Model\n",
    "from tensorflow.keras.layers import Dense, GlobalAveragePooling2D\n",
    "from tensorflow.keras.optimizers import Adam, RMSprop, SGD\n",
    "from tensorflow.keras.callbacks import ModelCheckpoint, TensorBoard\n",
    "from datetime import datetime"
   ]
  },
  {
   "cell_type": "code",
   "execution_count": 8,
   "metadata": {},
   "outputs": [],
   "source": [
    "model_dir = os.path.join(PATH_DIR, 'bin')\n",
    "\n",
    "if not os.path.exists(model_dir):\n",
    "    os.mkdir(model_dir)"
   ]
  },
  {
   "cell_type": "code",
   "execution_count": 9,
   "metadata": {},
   "outputs": [],
   "source": [
    "def buildModel(base_model, first_layer = 1024, output = 3):\n",
    "    \"\"\"Add two fully connected layers to the base model\n",
    "    \"\"\"\n",
    "    \n",
    "    # add a global spatial average pooling layer\n",
    "    x = base_model.output\n",
    "    x = GlobalAveragePooling2D()(x)\n",
    "    x = Dense(first_layer, activation='relu')(x)\n",
    "\n",
    "    predictions = Dense(output, activation='softmax')(x)\n",
    "\n",
    "    # this is the model we will train\n",
    "    model = Model(inputs=base_model.input, outputs=predictions)\n",
    "    \n",
    "    return model"
   ]
  },
  {
   "cell_type": "code",
   "execution_count": 10,
   "metadata": {},
   "outputs": [],
   "source": [
    "def plotHistory(history):\n",
    "    \"\"\"\n",
    "    Plot the loss and accuracy curves for training and validation \n",
    "    \"\"\"\n",
    "    fig, ax = plt.subplots(2,1, figsize=(20,15))\n",
    "    ax[0].plot(history.history['loss'], color='b', label=\"Training loss\")\n",
    "    ax[0].plot(history.history['val_loss'], color='r', label=\"validation loss\",axes =ax[0])\n",
    "    legend = ax[0].legend(loc='best', shadow=True)\n",
    "\n",
    "    ax[1].plot(history.history['acc'], color='b', label=\"Training accuracy\")\n",
    "    ax[1].plot(history.history['val_acc'], color='r',label=\"Validation accuracy\")\n",
    "    legend = ax[1].legend(loc='best', shadow=True)"
   ]
  },
  {
   "cell_type": "code",
   "execution_count": 11,
   "metadata": {},
   "outputs": [],
   "source": [
    "# Define the optimizer\n",
    "optimizer_r = RMSprop(lr=0.001, rho=0.9, epsilon=1e-08, decay=0.0)\n",
    "optimizer_a = Adam(lr=0.001, beta_1=0.9, beta_2=0.999, amsgrad=True)"
   ]
  },
  {
   "cell_type": "code",
   "execution_count": 12,
   "metadata": {},
   "outputs": [],
   "source": [
    "# Load model if needed\n",
    "from tensorflow.keras.models import load_model\n",
    "\n",
    "model = load_model('bin/MobileNet_final_retrained.h5')"
   ]
  },
  {
   "cell_type": "markdown",
   "metadata": {
    "heading_collapsed": true
   },
   "source": [
    "## 3.1 MobileNet"
   ]
  },
  {
   "cell_type": "code",
   "execution_count": null,
   "metadata": {
    "hidden": true
   },
   "outputs": [],
   "source": [
    "name = 'MobileNet_final'\n",
    "now = datetime.utcnow().strftime(\"%Y%m%d%H%M%S\")\n",
    "root_logdir = \"logs\"\n",
    "logdir = \"{}/run-{}_{}/\".format(root_logdir, now,name)\n",
    "\n",
    "backup_model_path = os.path.join(model_dir, '{}_retrained.h5'.format(name)) # it contains already the weights\n",
    "backup_weights_path = os.path.join(model_dir, '{}_retrained_weights.h5'.format(name))\n",
    "\n",
    "# tensorboard\n",
    "tensorboard = TensorBoard(log_dir = logdir)\n",
    "\n",
    "checkpointer = ModelCheckpoint(filepath=backup_weights_path, \n",
    "                               monitor = 'loss',\n",
    "                               verbose=1, \n",
    "                               save_best_only=True)"
   ]
  },
  {
   "cell_type": "code",
   "execution_count": null,
   "metadata": {
    "hidden": true
   },
   "outputs": [],
   "source": [
    "from keras.applications.mobilenet import MobileNet\n",
    "\n",
    "# create the base pre-trained model\n",
    "base_model = MobileNet(input_shape = (224, 224, 3),\n",
    "                       weights='imagenet', include_top=False,\n",
    "                       alpha=1.0, depth_multiplier=1, dropout=1e-3)\n",
    "\n",
    "model = buildModel(base_model, 256, 3)"
   ]
  },
  {
   "cell_type": "code",
   "execution_count": null,
   "metadata": {
    "hidden": true
   },
   "outputs": [],
   "source": [
    "# plot the summary\n",
    "model.summary()"
   ]
  },
  {
   "cell_type": "code",
   "execution_count": null,
   "metadata": {
    "hidden": true,
    "scrolled": true
   },
   "outputs": [],
   "source": [
    "# for i, layer in enumerate(model.layers):\n",
    "#    print(i, layer.name)\n",
    "# print the depth of the network\n",
    "model_depth = len(model.layers)\n",
    "print(\"Depth of the network: {}\".format(model_depth))"
   ]
  },
  {
   "cell_type": "markdown",
   "metadata": {
    "hidden": true
   },
   "source": [
    "### 3.1.1 Re-Train the network"
   ]
  },
  {
   "cell_type": "code",
   "execution_count": null,
   "metadata": {
    "hidden": true
   },
   "outputs": [],
   "source": [
    "# i.e. freeze all base model layers\n",
    "for layer in base_model.layers:\n",
    "    layer.trainable = True"
   ]
  },
  {
   "cell_type": "code",
   "execution_count": null,
   "metadata": {
    "hidden": true
   },
   "outputs": [],
   "source": [
    "# compile the model \n",
    "model.compile(optimizer=optimizer_r, loss='categorical_crossentropy', metrics = ['accuracy'])"
   ]
  },
  {
   "cell_type": "code",
   "execution_count": null,
   "metadata": {
    "hidden": true
   },
   "outputs": [],
   "source": [
    "first_n_epochs = 6\n",
    "\n",
    "# train the model on the new data for a few epochs\n",
    "history = model.fit_generator(train_data_gen, ((train_data_gen.n // batch_size) + 1),\n",
    "                    epochs = first_n_epochs,\n",
    "                    validation_data = validation_data_gen, shuffle = True,\n",
    "                    validation_steps = ((validation_data_gen.n // batch_size) + 1),\n",
    "                    callbacks = [tensorboard])"
   ]
  },
  {
   "cell_type": "code",
   "execution_count": null,
   "metadata": {
    "hidden": true
   },
   "outputs": [],
   "source": [
    "plotHistory(history)"
   ]
  },
  {
   "cell_type": "code",
   "execution_count": null,
   "metadata": {
    "hidden": true
   },
   "outputs": [],
   "source": [
    "# save model and weights\n",
    "model.save(backup_model_path)\n",
    "model.save_weights(backup_weights_path)"
   ]
  },
  {
   "cell_type": "markdown",
   "metadata": {
    "heading_collapsed": true,
    "hidden": true
   },
   "source": [
    "### 3.1.2 Test the retrained model"
   ]
  },
  {
   "cell_type": "code",
   "execution_count": null,
   "metadata": {
    "hidden": true
   },
   "outputs": [],
   "source": [
    "score = model.evaluate_generator(train_data_gen, steps = (train_data_gen.n // batch_size + 1),  workers=10)"
   ]
  },
  {
   "cell_type": "code",
   "execution_count": null,
   "metadata": {
    "hidden": true
   },
   "outputs": [],
   "source": [
    "for s, m in zip(score, model.metrics_names):\n",
    "    print(\"{}: {}\".format(m, s))"
   ]
  },
  {
   "cell_type": "markdown",
   "metadata": {
    "hidden": true
   },
   "source": [
    "- MobileNet_second (grugliasco training) **test** new 5044 ==> acc: 0.9484536082474226 loss: 0.4985503224651601\n",
    "- MobileNet_second (grugliasco training) **train** new 23530 ==> acc: 0.9408839778600223 loss: 0.5127158542301014\n",
    "- MobileNet_second (grugliasco training) **validation** new 5042 ==> acc: 0.9430781435938119 loss: loss: 0.5145192529085608"
   ]
  },
  {
   "cell_type": "markdown",
   "metadata": {
    "heading_collapsed": true,
    "hidden": true
   },
   "source": [
    "### 3.1.3 Confusion Matrix"
   ]
  },
  {
   "cell_type": "code",
   "execution_count": null,
   "metadata": {
    "hidden": true
   },
   "outputs": [],
   "source": [
    "import itertools\n",
    "# defining the confusion matrix function\n",
    "def plot_confusion_matrix(cm, classes,\n",
    "                          normalize=False,\n",
    "                          title='Confusion matrix',\n",
    "                          cmap=plt.cm.Blues):\n",
    "    \"\"\"\n",
    "    This function prints and plots the confusion matrix.\n",
    "    Normalization can be applied by setting `normalize=True`.\n",
    "    \"\"\"\n",
    "    if normalize:\n",
    "        cm = cm.astype('float') / cm.sum(axis=1)[:, np.newaxis]\n",
    "        print(\"Normalized confusion matrix\")\n",
    "    else:\n",
    "        print('Confusion matrix, without normalization')\n",
    "\n",
    "    plt.figure(figsize=(7,7))\n",
    "    plt.imshow(cm, interpolation='nearest', cmap=cmap)\n",
    "    plt.title(title)\n",
    "    plt.colorbar()\n",
    "    tick_marks = np.arange(len(classes))\n",
    "    plt.xticks(tick_marks, classes, rotation=45)\n",
    "    plt.yticks(tick_marks, classes)\n",
    "\n",
    "    fmt = '.2f' if normalize else 'd'\n",
    "    thresh = cm.max() / 2.\n",
    "    for i, j in itertools.product(range(cm.shape[0]), range(cm.shape[1])):\n",
    "        plt.text(j, i, format(cm[i, j], fmt),\n",
    "                 horizontalalignment=\"center\",\n",
    "                 color=\"white\" if cm[i, j] > thresh else \"black\")\n",
    "\n",
    "    plt.tight_layout()\n",
    "    plt.ylabel('True label')\n",
    "    plt.xlabel('Predicted label')\n",
    "    plt.savefig('confusion_matrix.png')\n",
    "    plt.show()"
   ]
  },
  {
   "cell_type": "code",
   "execution_count": null,
   "metadata": {
    "hidden": true
   },
   "outputs": [],
   "source": [
    "# collect test predictions\n",
    "y_pred = model.predict_generator(train_data_gen, steps = ((train_data_gen.n // batch_size) + 1), workers=10)"
   ]
  },
  {
   "cell_type": "code",
   "execution_count": null,
   "metadata": {
    "hidden": true,
    "scrolled": true
   },
   "outputs": [],
   "source": [
    "# predicting with the classifier\n",
    "cm = confusion_matrix(train_data_gen.classes, np.argmax(y_pred, axis=-1))\n",
    "\n",
    "plot_confusion_matrix(cm, classes, title = 'Confusion Matrix')"
   ]
  },
  {
   "cell_type": "markdown",
   "metadata": {
    "heading_collapsed": true,
    "hidden": true
   },
   "source": [
    "### 3.1.4 Classifiction Report"
   ]
  },
  {
   "cell_type": "code",
   "execution_count": null,
   "metadata": {
    "hidden": true
   },
   "outputs": [],
   "source": [
    "from sklearn.metrics import classification_report, accuracy_score"
   ]
  },
  {
   "cell_type": "code",
   "execution_count": null,
   "metadata": {
    "hidden": true
   },
   "outputs": [],
   "source": [
    "accuracy_score(train_data_gen.classes, np.argmax(y_pred, axis=-1))"
   ]
  },
  {
   "cell_type": "code",
   "execution_count": null,
   "metadata": {
    "hidden": true
   },
   "outputs": [],
   "source": [
    "labels = list((train_data_gen.class_indices).values())\n",
    "target_names = list((train_data_gen.class_indices).keys())"
   ]
  },
  {
   "cell_type": "code",
   "execution_count": null,
   "metadata": {
    "hidden": true
   },
   "outputs": [],
   "source": [
    "clf_report = classification_report(train_data_gen.classes, np.argmax(y_pred, axis=-1),\n",
    "                      labels=labels, target_names=target_names, digits=3)\n",
    "print(clf_report)"
   ]
  },
  {
   "cell_type": "markdown",
   "metadata": {
    "heading_collapsed": true
   },
   "source": [
    "## 3.2 Plot Intermediate Layers"
   ]
  },
  {
   "cell_type": "code",
   "execution_count": null,
   "metadata": {
    "hidden": true
   },
   "outputs": [],
   "source": [
    "import cv2"
   ]
  },
  {
   "cell_type": "code",
   "execution_count": null,
   "metadata": {
    "hidden": true
   },
   "outputs": [],
   "source": [
    "FIRST_IMAGE = cv2.resize(cv2.cvtColor(cv2.imread('dataset/train/left/img_0.jpg') , cv2.COLOR_BGR2RGB), (224,224))/255.0\n",
    "SECOND_IMAGE = cv2.resize(cv2.cvtColor(cv2.imread('dataset/train/center/img_20.jpg') , cv2.COLOR_BGR2RGB), (224,224))/255.0\n",
    "THIRD_IMAGE = cv2.resize(cv2.cvtColor(cv2.imread('dataset/train/right/img_0.jpg') , cv2.COLOR_BGR2RGB), (224,224))/255.0\n",
    "\n",
    "from tensorflow.keras import models\n",
    "layer_outputs = [layer.output for layer in model.layers]"
   ]
  },
  {
   "cell_type": "code",
   "execution_count": null,
   "metadata": {
    "hidden": true
   },
   "outputs": [],
   "source": [
    "for i,j in enumerate(layer_outputs):\n",
    "    print(i, j)"
   ]
  },
  {
   "cell_type": "code",
   "execution_count": null,
   "metadata": {
    "hidden": true
   },
   "outputs": [],
   "source": [
    "selected_layers = [layer_outputs[2], layer_outputs[28], layer_outputs[84]]"
   ]
  },
  {
   "cell_type": "code",
   "execution_count": null,
   "metadata": {
    "hidden": true
   },
   "outputs": [],
   "source": [
    "selected_layers"
   ]
  },
  {
   "cell_type": "code",
   "execution_count": null,
   "metadata": {
    "hidden": true
   },
   "outputs": [],
   "source": [
    "activation_model = Model(inputs = model.input, outputs = selected_layers)"
   ]
  },
  {
   "cell_type": "code",
   "execution_count": null,
   "metadata": {
    "hidden": true
   },
   "outputs": [],
   "source": [
    "CONVOLUTION_NUMBER = 6\n",
    "fig, ax = plt.subplots(3,4, figsize=(15,15))\n",
    "\n",
    "\n",
    "ax[0,0].imshow(FIRST_IMAGE)\n",
    "#ax[0,0].axis('off')\n",
    "#ax[0,0].grid(True)\n",
    "ax[1,0].imshow(SECOND_IMAGE)\n",
    "#ax[1,0].axis('off')\n",
    "#ax[1,0].grid(True)\n",
    "ax[2,0].imshow(THIRD_IMAGE)\n",
    "#ax[2,0].axis('off')\n",
    "#ax[2,0].grid(True)   \n",
    "\n",
    "\n",
    "for x in range(0, 3):\n",
    "    f1 = activation_model.predict(FIRST_IMAGE.reshape(1,224,224,3))[x]\n",
    "    ax[0,x+1].imshow(f1[0,:,:,CONVOLUTION_NUMBER], cmap='inferno')\n",
    "    ax[0,x+1].grid(False)\n",
    "    \n",
    "    f2 = activation_model.predict(SECOND_IMAGE.reshape(1,224,224,3))[x]\n",
    "    ax[1,x+1].imshow(f2[0,:,:,CONVOLUTION_NUMBER], cmap='inferno')\n",
    "    ax[1,x+1].grid(False)\n",
    "    \n",
    "    f3 = activation_model.predict(THIRD_IMAGE.reshape(1,224,224,3))[x]\n",
    "    ax[2,x+1].imshow(f3[0,:,:,CONVOLUTION_NUMBER], cmap='inferno')\n",
    "    ax[2,x+1].grid(False)\n",
    "plt.tight_layout()\n",
    "plt.subplots_adjust(bottom=1.0, top=1.7, hspace=0.1)\n",
    "plt.savefig('activations_layers_2_28_84.png', dpi=300)\n",
    "plt.show()"
   ]
  },
  {
   "cell_type": "markdown",
   "metadata": {},
   "source": [
    "## 3.3 Use GradCAM\n",
    "\n",
    "Using GradCAM for a better understanding of where the network focuses \n"
   ]
  },
  {
   "cell_type": "code",
   "execution_count": 13,
   "metadata": {},
   "outputs": [],
   "source": [
    "from tf_explain.core.grad_cam import GradCAM"
   ]
  },
  {
   "cell_type": "code",
   "execution_count": 14,
   "metadata": {},
   "outputs": [],
   "source": [
    "explainer = GradCAM()"
   ]
  },
  {
   "cell_type": "code",
   "execution_count": null,
   "metadata": {},
   "outputs": [],
   "source": [
    "x_test, y_test = next(test_data_gen)"
   ]
  },
  {
   "cell_type": "code",
   "execution_count": null,
   "metadata": {},
   "outputs": [],
   "source": [
    "y_pred = model.predict(x_test)"
   ]
  },
  {
   "cell_type": "code",
   "execution_count": 17,
   "metadata": {},
   "outputs": [],
   "source": [
    "def explainGradCam(explainer, model, img, y, y_pred, class_names):\n",
    "    data = data = ([img], None)\n",
    "    plt.figure(figsize=(5,5))\n",
    "    y = np.argmax(y)\n",
    "    y_predm = np.argmax(y_pred)\n",
    "    if y == y_predm:\n",
    "        color = 'blue'\n",
    "    else:\n",
    "        color = 'red'\n",
    "        \n",
    "    grid = explainer.explain(data, model, class_index=y_predm, colormap=14) \n",
    "\n",
    "    plt.imshow(grid)\n",
    "\n",
    "    plt.show()\n"
   ]
  },
  {
   "cell_type": "code",
   "execution_count": 75,
   "metadata": {},
   "outputs": [],
   "source": [
    "index = 0"
   ]
  },
  {
   "cell_type": "code",
   "execution_count": 129,
   "metadata": {},
   "outputs": [
    {
     "data": {
      "image/png": "[encoded data removed]",
      "text/plain": [
       "<Figure size 360x360 with 1 Axes>"
      ]
     },
     "metadata": {
      "needs_background": "light"
     },
     "output_type": "display_data"
    }
   ],
   "source": [
    "figure_n = index # number of figure (64)\n",
    "index += 1\n",
    "explainGradCam(explainer, model, x_test[figure_n], y_test[figure_n],\n",
    "               y_pred[figure_n], class_names=list(train_data_gen.class_indices.keys()))"
   ]
  },
  {
   "cell_type": "code",
   "execution_count": null,
   "metadata": {},
   "outputs": [],
   "source": []
  },
  {
   "cell_type": "markdown",
   "metadata": {
    "heading_collapsed": true
   },
   "source": [
    "## 3.2 Xception"
   ]
  },
  {
   "cell_type": "code",
   "execution_count": null,
   "metadata": {
    "hidden": true
   },
   "outputs": [],
   "source": [
    "name = 'Xception'\n",
    "now = datetime.utcnow().strftime(\"%Y%m%d%H%M%S\")\n",
    "root_logdir = \"logs\"\n",
    "logdir = \"{}/run-{}_{}/\".format(root_logdir, now,name)\n",
    "\n",
    "backup_model_path = os.path.join(model_dir, '{}_retrained.h5'.format(name)) # it contains already the weights\n",
    "backup_weights_path = os.path.join(model_dir, '{}_retrained_weights.h5'.format(name))\n",
    "\n",
    "# tensorboard\n",
    "tensorboard = TensorBoard(log_dir = logdir)\n",
    "\n",
    "checkpointer = ModelCheckpoint(filepath=backup_weights_path, \n",
    "                               monitor = 'loss',\n",
    "                               verbose=1, \n",
    "                               save_best_only=True)"
   ]
  },
  {
   "cell_type": "code",
   "execution_count": null,
   "metadata": {
    "hidden": true
   },
   "outputs": [],
   "source": [
    "from keras.applications.xception import Xception\n",
    "\n",
    "# create the base pre-trained model\n",
    "base_model = Xception(input_shape = (299, 299, 3),\n",
    "                       weights='imagenet', include_top=False)\n",
    "\n",
    "model = buildModel(base_model, 256, 3)"
   ]
  },
  {
   "cell_type": "code",
   "execution_count": null,
   "metadata": {
    "hidden": true
   },
   "outputs": [],
   "source": [
    "# plot the summary\n",
    "model.summary()"
   ]
  },
  {
   "cell_type": "code",
   "execution_count": null,
   "metadata": {
    "hidden": true
   },
   "outputs": [],
   "source": [
    "# for i, layer in enumerate(model.layers):\n",
    "#    print(i, layer.name)\n",
    "# print the depth of the network\n",
    "model_depth = len(model.layers)\n",
    "print(\"Depth of the network: {}\".format(model_depth))"
   ]
  },
  {
   "cell_type": "markdown",
   "metadata": {
    "heading_collapsed": true,
    "hidden": true
   },
   "source": [
    "### 3.2.1 Train only the head of the network"
   ]
  },
  {
   "cell_type": "code",
   "execution_count": null,
   "metadata": {
    "hidden": true
   },
   "outputs": [],
   "source": [
    "# i.e. freeze all base model layers\n",
    "for layer in base_model.layers:\n",
    "    layer.trainable = True"
   ]
  },
  {
   "cell_type": "code",
   "execution_count": null,
   "metadata": {
    "hidden": true
   },
   "outputs": [],
   "source": [
    "# compile the model \n",
    "model.compile(optimizer=optimizer_r, loss='categorical_crossentropy', metrics = ['accuracy'])"
   ]
  },
  {
   "cell_type": "code",
   "execution_count": null,
   "metadata": {
    "hidden": true
   },
   "outputs": [],
   "source": [
    "first_n_epochs = 5\n",
    "\n",
    "# train the model on the new data for a few epochs\n",
    "history = model.fit_generator(train_data_gen, ((train_data_gen.n // batch_size) + 1),\n",
    "                    epochs = first_n_epochs,\n",
    "                    validation_data = validation_data_gen, shuffle = True,\n",
    "                    validation_steps = ((validation_data_gen.n // batch_size) + 1),\n",
    "                    callbacks = [tensorboard, checkpointer])"
   ]
  },
  {
   "cell_type": "code",
   "execution_count": null,
   "metadata": {
    "hidden": true
   },
   "outputs": [],
   "source": [
    "plotHistory(history)"
   ]
  },
  {
   "cell_type": "code",
   "execution_count": null,
   "metadata": {
    "hidden": true
   },
   "outputs": [],
   "source": [
    "# save model and weights\n",
    "model.save(backup_model_path)\n",
    "model.save_weights(backup_weights_path)"
   ]
  },
  {
   "cell_type": "markdown",
   "metadata": {
    "heading_collapsed": true
   },
   "source": [
    "## 3.3 MobileNetv2"
   ]
  },
  {
   "cell_type": "code",
   "execution_count": null,
   "metadata": {
    "hidden": true
   },
   "outputs": [],
   "source": [
    "name = 'MobileNetv2'\n",
    "now = datetime.utcnow().strftime(\"%Y%m%d%H%M%S\")\n",
    "root_logdir = \"logs\"\n",
    "logdir = \"{}/run-{}_{}/\".format(root_logdir, now,name)\n",
    "\n",
    "backup_model_path = os.path.join(model_dir, '{}_retrained.h5'.format(name)) # it contains already the weights\n",
    "backup_weights_path = os.path.join(model_dir, '{}_retrained_weights.h5'.format(name))\n",
    "\n",
    "# tensorboard\n",
    "tensorboard = TensorBoard(log_dir = logdir)\n",
    "\n",
    "checkpointer = ModelCheckpoint(filepath=backup_weights_path, \n",
    "                               monitor = 'loss',\n",
    "                               verbose=1, \n",
    "                               save_best_only=True)"
   ]
  },
  {
   "cell_type": "code",
   "execution_count": null,
   "metadata": {
    "hidden": true
   },
   "outputs": [],
   "source": [
    "from keras.applications.mobilenet_v2 import MobileNetV2\n",
    "\n",
    "# create the base pre-trained model\n",
    "base_model = MobileNetV2(input_shape = (224, 224, 3),\n",
    "                       weights='imagenet', include_top=False)\n",
    "\n",
    "model = buildModel(base_model, 512, 3)"
   ]
  },
  {
   "cell_type": "code",
   "execution_count": null,
   "metadata": {
    "hidden": true
   },
   "outputs": [],
   "source": [
    "# plot the summary\n",
    "model.summary()"
   ]
  },
  {
   "cell_type": "code",
   "execution_count": null,
   "metadata": {
    "hidden": true
   },
   "outputs": [],
   "source": [
    "# for i, layer in enumerate(model.layers):\n",
    "#    print(i, layer.name)\n",
    "# print the depth of the network\n",
    "model_depth = len(model.layers)\n",
    "print(\"Depth of the network: {}\".format(model_depth))"
   ]
  },
  {
   "cell_type": "markdown",
   "metadata": {
    "hidden": true
   },
   "source": [
    "### 3.3.1 Train only the head of the network"
   ]
  },
  {
   "cell_type": "code",
   "execution_count": null,
   "metadata": {
    "hidden": true
   },
   "outputs": [],
   "source": [
    "# i.e. freeze all base model layers\n",
    "for layer in base_model.layers:\n",
    "    layer.trainable = True"
   ]
  },
  {
   "cell_type": "code",
   "execution_count": null,
   "metadata": {
    "hidden": true
   },
   "outputs": [],
   "source": [
    "# compile the model \n",
    "model.compile(optimizer=optimizer_r, loss='categorical_crossentropy', metrics = ['accuracy'])"
   ]
  },
  {
   "cell_type": "code",
   "execution_count": null,
   "metadata": {
    "hidden": true
   },
   "outputs": [],
   "source": [
    "first_n_epochs = 3\n",
    "\n",
    "# train the model on the new data for a few epochs\n",
    "history = model.fit_generator(train_data_gen, ((train_data_gen.n // batch_size) + 1),\n",
    "                    epochs = first_n_epochs,\n",
    "                    validation_data = validation_data_gen, shuffle = True,\n",
    "                    validation_steps = ((validation_data_gen.n // batch_size) + 1),\n",
    "                    callbacks = [tensorboard, checkpointer])"
   ]
  },
  {
   "cell_type": "code",
   "execution_count": null,
   "metadata": {
    "hidden": true
   },
   "outputs": [],
   "source": [
    "plotHistory(history)"
   ]
  },
  {
   "cell_type": "code",
   "execution_count": null,
   "metadata": {
    "hidden": true
   },
   "outputs": [],
   "source": [
    "# save model and weights\n",
    "model.save(backup_model_path)\n",
    "model.save_weights(backup_weights_path)"
   ]
  },
  {
   "cell_type": "markdown",
   "metadata": {
    "hidden": true
   },
   "source": [
    "### 3.3.2 Test the retrained model"
   ]
  },
  {
   "cell_type": "code",
   "execution_count": null,
   "metadata": {
    "hidden": true
   },
   "outputs": [],
   "source": [
    "score = model.evaluate_generator(test_data_gen, steps = (test_data_gen.n // batch_size + 1))"
   ]
  },
  {
   "cell_type": "code",
   "execution_count": null,
   "metadata": {
    "hidden": true
   },
   "outputs": [],
   "source": [
    "for s, m in zip(score, model.metrics_names):\n",
    "    print(\"{}: {}\".format(m, s))"
   ]
  },
  {
   "cell_type": "markdown",
   "metadata": {
    "heading_collapsed": true
   },
   "source": [
    "# 4.0 Test the model on a new dataset"
   ]
  },
  {
   "cell_type": "code",
   "execution_count": null,
   "metadata": {
    "hidden": true
   },
   "outputs": [],
   "source": [
    "score = model.evaluate_generator(test_data_gen, steps = (test_data_gen.n // batch_size + 1))"
   ]
  },
  {
   "cell_type": "code",
   "execution_count": null,
   "metadata": {
    "hidden": true
   },
   "outputs": [],
   "source": [
    "for s, m in zip(score, model.metrics_names):\n",
    "    print(\"{}: {}\".format(m, s))"
   ]
  },
  {
   "cell_type": "code",
   "execution_count": null,
   "metadata": {
    "hidden": true
   },
   "outputs": [],
   "source": [
    "y_pred = model.predict_generator(test_casa_data_gen, steps = ((test_casa_data_gen.n // batch_size) + 1))"
   ]
  },
  {
   "cell_type": "code",
   "execution_count": null,
   "metadata": {
    "hidden": true
   },
   "outputs": [],
   "source": [
    "from sklearn.metrics import accuracy_score\n",
    "\n",
    "accuracy_score(np.argmax(y_test, axis=-1), np.argmax(y_pred, axis=-1))"
   ]
  },
  {
   "cell_type": "code",
   "execution_count": null,
   "metadata": {
    "hidden": true
   },
   "outputs": [],
   "source": [
    "# predicting with the classifier\n",
    "cm = confusion_matrix(np.argmax(y_test, axis=-1), np.argmax(y_pred, axis=-1))\n",
    "\n",
    "plot_confusion_matrix(cm, classes, title = 'Confusion Matrix')"
   ]
  },
  {
   "cell_type": "markdown",
   "metadata": {
    "heading_collapsed": true
   },
   "source": [
    "# 5.0 Test models on single images"
   ]
  },
  {
   "cell_type": "code",
   "execution_count": null,
   "metadata": {
    "hidden": true
   },
   "outputs": [],
   "source": [
    "from keras.applications.mobilenet import MobileNet\n",
    "from keras.preprocessing import image\n",
    "from keras.applications.mobilenet import preprocess_input, decode_predictions\n",
    "import numpy as np\n",
    "\n",
    "file = 'frame_0.jpg'\n",
    "\n",
    "img_path = os.path.join(dataset_dir, test_casa_dir, 'left', file)\n",
    "img = image.load_img(img_path, target_size=(224, 224))\n",
    "x = image.img_to_array(img)\n",
    "x = np.expand_dims(x, axis=0)\n",
    "x = preprocess_input(x)\n",
    "\n",
    "y = model.predict(x)\n",
    "\n",
    "plt.title('Predicted: {}'.format(classes[np.argmax(y)]))\n",
    "_ = plt.imshow(img)"
   ]
  }
 ],
 "metadata": {
  "kernelspec": {
   "display_name": "Python 3",
   "language": "python",
   "name": "python3"
  },
  "language_info": {
   "codemirror_mode": {
    "name": "ipython",
    "version": 3
   },
   "file_extension": ".py",
   "mimetype": "text/x-python",
   "name": "python",
   "nbconvert_exporter": "python",
   "pygments_lexer": "ipython3",
   "version": "3.6.9"
  },
  "varInspector": {
   "cols": {
    "lenName": 16,
    "lenType": 16,
    "lenVar": 40
   },
   "kernels_config": {
    "python": {
     "delete_cmd_postfix": "",
     "delete_cmd_prefix": "del ",
     "library": "var_list.py",
     "varRefreshCmd": "print(var_dic_list())"
    },
    "r": {
     "delete_cmd_postfix": ") ",
     "delete_cmd_prefix": "rm(",
     "library": "var_list.r",
     "varRefreshCmd": "cat(var_dic_list()) "
    }
   },
   "types_to_exclude": [
    "module",
    "function",
    "builtin_function_or_method",
    "instance",
    "_Feature"
   ],
   "window_display": false
  }
 },
 "nbformat": 4,
 "nbformat_minor": 2
}
